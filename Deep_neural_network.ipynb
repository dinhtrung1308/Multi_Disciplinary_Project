{
  "nbformat": 4,
  "nbformat_minor": 0,
  "metadata": {
    "colab": {
      "name": "Deep_neural_network.ipynb",
      "provenance": [],
      "authorship_tag": "ABX9TyMXxhiavN/aN2PG3RHzX1wZ",
      "include_colab_link": true
    },
    "kernelspec": {
      "name": "python3",
      "display_name": "Python 3"
    },
    "language_info": {
      "name": "python"
    }
  },
  "cells": [
    {
      "cell_type": "markdown",
      "metadata": {
        "id": "view-in-github",
        "colab_type": "text"
      },
      "source": [
        "<a href=\"https://colab.research.google.com/github/ducbao811/Multi_Disciplinary_Project/blob/master/Deep_neural_network.ipynb\" target=\"_parent\"><img src=\"https://colab.research.google.com/assets/colab-badge.svg\" alt=\"Open In Colab\"/></a>"
      ]
    },
    {
      "cell_type": "markdown",
      "metadata": {
        "id": "p-9hulNU3NPd"
      },
      "source": [
        "# [Problem 1]"
      ]
    },
    {
      "cell_type": "code",
      "metadata": {
        "id": "lBP6SAFZZDXF"
      },
      "source": [
        "import numpy as np"
      ],
      "execution_count": 1,
      "outputs": []
    },
    {
      "cell_type": "code",
      "metadata": {
        "id": "APoW8DkhAGRG"
      },
      "source": [
        "class FC:\n",
        "    \"\"\"\n",
        "    Number of nodes Fully connected layer from n_nodes1 to n_nodes2\n",
        "    Parameters\n",
        "    ----------\n",
        "    n_nodes1 : int\n",
        "      Number of nodes in the previous layer\n",
        "    n_nodes2 : int\n",
        "      Number of nodes in the later layer\n",
        "    initializer: instance of initialization method\n",
        "    optimizer: instance of optimization method\n",
        "    \"\"\"\n",
        "    def __init__(self, n_nodes1, n_nodes2, initializer, optimizer):\n",
        "        self.optimizer = optimizer\n",
        "        # Initialize\n",
        "        # Initialize self.W and self.B using the initializer method\n",
        "        self.n_nodes1 = n_nodes1\n",
        "        self.n_nodes2 = n_nodes2\n",
        "        self.W = initializer.W(self.n_nodes1, self.n_nodes2)\n",
        "        self.b = initializer.B(self.n_nodes2)\n",
        "        self.HB = 0\n",
        "        self.HW = 0\n",
        "        self.optimizer = optimizer\n",
        "      \n",
        "    def forward(self, X):\n",
        "        \"\"\"\n",
        "        forward\n",
        "        Parameters\n",
        "        ----------\n",
        "        X : The following forms of ndarray, shape (batch_size, n_nodes1)\n",
        "            入力\n",
        "        Returns\n",
        "        ----------\n",
        "        A : The following forms of ndarray, shape (batch_size, n_nodes2)\n",
        "            output\n",
        "        \"\"\" \n",
        "        self.Z = X       \n",
        "        A = X @ self.W + self.b\n",
        "        return A\n",
        "    def backward(self, dA):\n",
        "        \"\"\"\n",
        "        Backward\n",
        "        Parameters\n",
        "        ----------\n",
        "        dA : The following forms of ndarray, shape (batch_size, n_nodes2)\n",
        "            Gradient flowing from behind\n",
        "        Returns\n",
        "        ----------\n",
        "        dZ : The following forms of ndarray, shape (batch_size, n_nodes1)\n",
        "            Gradient to flow forward\n",
        "        \"\"\"\n",
        "        # Calculate dB and dW for updating\n",
        "        self.dB = np.sum(dA,axis=0)\n",
        "        self.dW = self.Z.T @ dA\n",
        "        self = self.optimizer.update(self)\n",
        "        return dA @ self.W.T\n"
      ],
      "execution_count": 26,
      "outputs": []
    },
    {
      "cell_type": "markdown",
      "metadata": {
        "id": "-7fFWxGxA5dS"
      },
      "source": [
        "# [Problem 2]"
      ]
    },
    {
      "cell_type": "code",
      "metadata": {
        "id": "ZHIkul7EA26l"
      },
      "source": [
        "class SimpleInitializer:\n",
        "    \"\"\"\n",
        "    Simple initialization with Gaussian distribution\n",
        "    Parameters\n",
        "    ----------\n",
        "    sigma : float\n",
        "      Standard deviation of Gaussian distribution\n",
        "    \"\"\"\n",
        "    def __init__(self, sigma):\n",
        "        self.sigma = sigma\n",
        "    def W(self, n_nodes1, n_nodes2):\n",
        "        \"\"\"\n",
        "        Weight initialization\n",
        "        Parameters\n",
        "        ----------\n",
        "        n_nodes1 : int\n",
        "          Number of nodes in the previous layer\n",
        "        n_nodes2 : int\n",
        "          Number of nodes in the later layer\n",
        "        Returns\n",
        "        ----------\n",
        "        W :\n",
        "        \"\"\"\n",
        "        self.W = self.sigma * np.random.randn(n_nodes1, n_nodes2)\n",
        "        return self.W\n",
        "    def B(self, n_nodes2):\n",
        "        \"\"\"\n",
        "        Bias initialization\n",
        "        Parameters\n",
        "        ----------\n",
        "        n_nodes2 : int\n",
        "          Number of nodes in the later layer\n",
        "        Returns\n",
        "        ----------\n",
        "        B :\n",
        "        \"\"\"\n",
        "        self.B = self.sigma * np.random.rand(1,n_nodes2)\n",
        "        return self.B\n"
      ],
      "execution_count": 4,
      "outputs": []
    },
    {
      "cell_type": "markdown",
      "metadata": {
        "id": "H9znoWtsV2rh"
      },
      "source": [
        "# [Problem 3]"
      ]
    },
    {
      "cell_type": "code",
      "metadata": {
        "id": "8mPxm9CMA3lX"
      },
      "source": [
        "class SGD:\n",
        "    \"\"\"\n",
        "    Stochastic gradient descent\n",
        "    Parameters\n",
        "    ----------\n",
        "    lr : Learning rate\n",
        "    \"\"\"\n",
        "    def __init__(self, lr):\n",
        "        self.lr = lr\n",
        "    def update(self, layer):\n",
        "        \"\"\"\n",
        "        Update weights and biases for a layer\n",
        "        Parameters\n",
        "        ----------\n",
        "        layer : Instance of the layer before update\n",
        "        \"\"\"\n",
        "        layer.W -= self.lr * layer.dW\n",
        "        layer.b -= self.lr * layer.dB\n",
        "\n",
        "        return layer\n",
        "        "
      ],
      "execution_count": 12,
      "outputs": []
    },
    {
      "cell_type": "markdown",
      "metadata": {
        "id": "wDne09A6V5ES"
      },
      "source": [
        "# [Problem 4]"
      ]
    },
    {
      "cell_type": "code",
      "metadata": {
        "id": "0NlxFl33VHEH"
      },
      "source": [
        "# Tanh activation function\n",
        "class Tanh:\n",
        "\n",
        "  def forward(self, A):\n",
        "    self.A = A\n",
        "    return np.tanh(self.A)\n",
        "\n",
        "  def backward(self, dZ):\n",
        "    return dZ * (1 - np.tanh(self.A) ** 2)"
      ],
      "execution_count": 6,
      "outputs": []
    },
    {
      "cell_type": "code",
      "metadata": {
        "id": "O_AFoOm7YH7W"
      },
      "source": [
        "class Softmax:\n",
        "\n",
        "  def forward(self, A):\n",
        "    return np.exp(A) / np.sum(np.exp(A),axis=1).reshape(-1,1)\\\n",
        "\n",
        "  def backward(self, Z, y):\n",
        "    return (Z - y) / len(y)"
      ],
      "execution_count": 7,
      "outputs": []
    },
    {
      "cell_type": "markdown",
      "metadata": {
        "id": "U9QiF_uUZ4Wd"
      },
      "source": [
        "# [Problem 5]"
      ]
    },
    {
      "cell_type": "code",
      "metadata": {
        "id": "15iqWCvEY_ww"
      },
      "source": [
        "class ReLU:\n",
        "\n",
        "  def forward(self, A):\n",
        "    self.A = A\n",
        "    return np.maximum(self.A, 0)\n",
        "\n",
        "  def backward(self, dZ):\n",
        "    return dZ * np.where(self.A > 0, 1, 0)"
      ],
      "execution_count": 8,
      "outputs": []
    },
    {
      "cell_type": "markdown",
      "metadata": {
        "id": "3r2B2zBobF1K"
      },
      "source": [
        "# [Problem 6]"
      ]
    },
    {
      "cell_type": "code",
      "metadata": {
        "id": "iLtJcXyXbEof"
      },
      "source": [
        "class XavierInitializer:\n",
        "  def W(self, n_nodes1, n_nodes2):\n",
        "      \"\"\"\n",
        "      Weight initialization\n",
        "      Parameters\n",
        "      ----------\n",
        "      n_nodes1 : int\n",
        "        Number of nodes in the previous layer\n",
        "      n_nodes2 : int\n",
        "        Number of nodes in the later layer\n",
        "      Returns\n",
        "      ----------\n",
        "      W :\n",
        "      \"\"\"\n",
        "      self.sigma = 1 / np.sqrt(n_nodes1)\n",
        "      self.W = self.sigma * np.random.randn(n_nodes1, n_nodes2)\n",
        "      return self.W\n",
        "\n",
        "  def B(self, n_nodes2):\n",
        "      \"\"\"\n",
        "      Bias initialization\n",
        "      Parameters\n",
        "      ----------\n",
        "      n_nodes2 : int\n",
        "        Number of nodes in the later layer\n",
        "      Returns\n",
        "      ----------\n",
        "      B :\n",
        "      \"\"\"\n",
        "      self.B = self.sigma * np.random.rand(1,self.n_nodes2)\n",
        "      return self.B"
      ],
      "execution_count": 9,
      "outputs": []
    },
    {
      "cell_type": "code",
      "metadata": {
        "id": "qtdIsLdHkI4G"
      },
      "source": [
        "class HeInitializer:\n",
        "\n",
        "  def __init__(self, sigma):\n",
        "    pass\n",
        "\n",
        "  def W(self, n_nodes1, n_nodes2):\n",
        "      \"\"\"\n",
        "      Weight initialization\n",
        "      Parameters\n",
        "      ----------\n",
        "      n_nodes1 : int\n",
        "        Number of nodes in the previous layer\n",
        "      n_nodes2 : int\n",
        "        Number of nodes in the later layer\n",
        "      Returns\n",
        "      ----------\n",
        "      W :\n",
        "      \"\"\"\n",
        "      self.sigma = np.sqrt(2/n_nodes1)\n",
        "      self.W = self.sigma * np.random.randn(n_nodes1, n_nodes2)\n",
        "      return self.W\n",
        "\n",
        "  def B(self, n_nodes2):\n",
        "      \"\"\"\n",
        "      Bias initialization\n",
        "      Parameters\n",
        "      ----------\n",
        "      n_nodes2 : int\n",
        "        Number of nodes in the later layer\n",
        "      Returns\n",
        "      ----------\n",
        "      B :\n",
        "      \"\"\"\n",
        "      self.B = self.sigma * np.random.rand(1,n_nodes2)\n",
        "      return self.B"
      ],
      "execution_count": 37,
      "outputs": []
    },
    {
      "cell_type": "markdown",
      "metadata": {
        "id": "Xrr7XmtokpHS"
      },
      "source": [
        "# [Problem 7]"
      ]
    },
    {
      "cell_type": "code",
      "metadata": {
        "id": "3chHwkqxknhw"
      },
      "source": [
        "class AdaGrad:\n",
        "    def __init__(self, lr):\n",
        "        self.lr = lr\n",
        "        self.delta = 1e-7\n",
        "    def update(self, layer):\n",
        "        \"\"\"\n",
        "        Update weights and biases for a layer\n",
        "        Parameters\n",
        "        ----------\n",
        "        layer : Instance of the layer before update\n",
        "        \"\"\"\n",
        "        # Update sum of squares of the gradient including the current iteration \n",
        "        layer.HW += layer.dW * layer.dW\n",
        "        layer.HB += layer.dB * layer.dB\n",
        "\n",
        "        # Update parameters\n",
        "        layer.W -= self.lr * layer.dW / (np.sqrt(layer.HW) + self.delta)\n",
        "        layer.b -= self.lr * layer.dB / (np.sqrt(layer.HB) + self.delta)\n",
        "\n",
        "        return layer"
      ],
      "execution_count": 16,
      "outputs": []
    },
    {
      "cell_type": "markdown",
      "metadata": {
        "id": "8ThhnZUyk0Kh"
      },
      "source": [
        "# [Problem 8]"
      ]
    },
    {
      "cell_type": "code",
      "metadata": {
        "id": "BGWdp4WxkmxP"
      },
      "source": [
        "class GetMiniBatch:\n",
        "    \"\"\"\n",
        "Iterator to get a mini-batch\n",
        "    Parameters\n",
        "    ----------\n",
        "    X : The following forms of ndarray, shape (n_samples, n_features)\n",
        "      Training data\n",
        "    y : The following form of ndarray, shape (n_samples, 1)\n",
        "      Correct answer value\n",
        "    batch_size : int\n",
        "      Batch size\n",
        "    seed : int\n",
        "      NumPy random number seed\n",
        "    \"\"\"\n",
        "    def __init__(self, X, y, batch_size = 20, seed=0):\n",
        "        self.batch_size = batch_size\n",
        "        np.random.seed(seed)\n",
        "        shuffle_index = np.random.permutation(np.arange(X.shape[0]))\n",
        "        self._X = X[shuffle_index]\n",
        "        self._y = y[shuffle_index]\n",
        "        self._stop = np.ceil(X.shape[0]/self.batch_size).astype(np.int)\n",
        "    def __len__(self):\n",
        "        return self._stop\n",
        "    def __getitem__(self,item):\n",
        "        p0 = item*self.batch_size\n",
        "        p1 = item*self.batch_size + self.batch_size\n",
        "        return self._X[p0:p1], self._y[p0:p1]        \n",
        "    def __iter__(self):\n",
        "        self._counter = 0\n",
        "        return self\n",
        "    def __next__(self):\n",
        "        if self._counter >= self._stop:\n",
        "            raise StopIteration()\n",
        "        p0 = self._counter*self.batch_size\n",
        "        p1 = self._counter*self.batch_size + self.batch_size\n",
        "        self._counter += 1\n",
        "        return self._X[p0:p1], self._y[p0:p1]\n"
      ],
      "execution_count": 17,
      "outputs": []
    },
    {
      "cell_type": "code",
      "metadata": {
        "id": "mDXnlDOuk2MH"
      },
      "source": [
        "class ScratchSimpleDeepNeuralNetrowkClassifier():\n",
        "    \"\"\"\n",
        "    Simple three-layer neural network classifier\n",
        "    Parameters\n",
        "    ----------\n",
        "    Attributes\n",
        "    ----------\n",
        "    \"\"\"\n",
        "    def __init__(self, verbose = False, bias = True, lr =0.01, n_features = 784,\n",
        "                 n_nodes1 = 400, n_nodes2 = 200, n_output = 10, sigma = 0.02, \n",
        "                 activate_func = Tanh, initializer = SimpleInitializer, optimizer=SGD):\n",
        "        self.verbose = verbose\n",
        "        self.has_bias = bias\n",
        "        self.lr = lr\n",
        "        self.n_features = n_features\n",
        "        self.n_nodes1 = n_nodes1\n",
        "        self.n_nodes2 = n_nodes2\n",
        "        self.n_output = n_output\n",
        "        self.activation_function = activate_func\n",
        "        self.batch_size = 20\n",
        "        self.epoch = 10\n",
        "        self.sigma = sigma\n",
        "        self.initializer = initializer\n",
        "        self.optimizer = optimizer\n",
        "\n",
        "    def fit(self, X, y, X_val=None, y_val=None):\n",
        "        \"\"\"\n",
        "        Learn a neural network classifier.\n",
        "        Parameters\n",
        "        ----------\n",
        "        X : The following forms of ndarray, shape (n_samples, n_features)\n",
        "            Features of training data\n",
        "        y : The following form of ndarray, shape (n_samples,)\n",
        "            Correct answer value of training data\n",
        "        X_val : The following forms of ndarray, shape (n_samples, n_features)\n",
        "            Features of verification data\n",
        "        y_val : The following form of ndarray, shape (n_samples,)\n",
        "            Correct value of verification data\n",
        "        \"\"\"\n",
        "        self.training_loss = []\n",
        "        self.testing_loss = []\n",
        "\n",
        "        # Initilize optimizer and layers\n",
        "        optimizer = self.optimizer(self.lr)\n",
        "        self.FC1 = FC(self.n_features, self.n_nodes1, self.initializer(self.sigma), optimizer)\n",
        "        self.activation1 = self.activation_function()\n",
        "        self.FC2 = FC(self.n_nodes1, self.n_nodes2, self.initializer(self.sigma), optimizer)\n",
        "        self.activation2 = self.activation_function()\n",
        "        self.FC3 = FC(self.n_nodes2, self.n_output, self.initializer(self.sigma), optimizer)\n",
        "        self.activation3 = Softmax()\n",
        "\n",
        "        for i in range (self.epoch):\n",
        "          \n",
        "          get_mini_batch = GetMiniBatch(X,y,batch_size=20)\n",
        "\n",
        "          for mini_X_train, mini_y_train in get_mini_batch:\n",
        "              self.forward_propagation(mini_X_train)\n",
        "              self.backward_propagation(mini_X_train, mini_y_train)\n",
        "\n",
        "          self.forward_propagation(X)\n",
        "          self.training_loss.append(self._cross_entropy(y,self.Z3))\n",
        "\n",
        "          if X_val is not None:\n",
        "            self.forward_propagation(X_val)\n",
        "            self.testing_loss.append(self._cross_entropy(y_val,self.Z3))\n",
        "          \n",
        "          if self.verbose:\n",
        "            print(\"Epoch {}:\\nTraining_loss: {}\".format(i,self.training_loss[-1]))\n",
        "            if X_val is not None:\n",
        "              print(\"Validation loss: {}\".format(self.testing_loss[-1]))\n",
        "\n",
        "    def forward_propagation(self, X):\n",
        "        \"\"\"\n",
        "        Implement forward propagation when training neural network\n",
        "        \"\"\"\n",
        "        self.A1 = self.FC1.forward(X)\n",
        "        self.Z1 = self.activation1.forward(self.A1)\n",
        "        self.A2 = self.FC2.forward(self.Z1)\n",
        "        self.Z2 = self.activation2.forward(self.A2)\n",
        "        self.A3 = self.FC3.forward(self.Z2)\n",
        "        self.Z3 = self.activation3.forward(self.A3)\n",
        "\n",
        "    def backward_propagation(self, X, y):\n",
        "        \"\"\"\n",
        "        Implement backward propagation \n",
        "        \"\"\"\n",
        "        dA3 = self.activation3.backward(self.Z3, y) # The cross entropy error and softmax are matched.\n",
        "        dZ2 = self.FC3.backward(dA3)\n",
        "        dA2 = self.activation2.backward(dZ2)\n",
        "        dZ1 = self.FC2.backward(dA2)\n",
        "        dA1 = self.activation1.backward(dZ1)\n",
        "        dZ0 = self.FC1.backward(dA1)\n",
        " \n",
        "\n",
        "\n",
        "    def _cross_entropy(self, y, Z):\n",
        "        return -np.sum(y*np.log(Z)) / len(y)\n",
        "\n",
        "\n",
        "    def predict(self, X):\n",
        "        \"\"\"\n",
        "        Estimate using a neural network classifier.\n",
        "        Parameters\n",
        "        ----------\n",
        "        X : The following forms of ndarray, shape (n_samples, n_features)\n",
        "            sample\n",
        "        Returns\n",
        "        -------\n",
        "            The following form of ndarray, shape (n_samples, 1)\n",
        "            Estimated result\n",
        "        \"\"\"\n",
        "        self.forward_propagation(X)\n",
        "        return np.argmax(self.Z3,axis=1)"
      ],
      "execution_count": 41,
      "outputs": []
    },
    {
      "cell_type": "markdown",
      "metadata": {
        "id": "6aGlHHrzoQxb"
      },
      "source": [
        "# [Problem 9]"
      ]
    },
    {
      "cell_type": "code",
      "metadata": {
        "colab": {
          "base_uri": "https://localhost:8080/"
        },
        "id": "xqe3NWQEoPEh",
        "outputId": "57065bd2-2401-4a3d-a735-28cdb2847064"
      },
      "source": [
        "# Importing dataset\n",
        "\n",
        "from keras.datasets import mnist\n",
        "(X_train, y_train), (X_test, y_test) = mnist.load_data()\n",
        "\n",
        "# Reshaping for fitting\n",
        "X_train = X_train.reshape(-1, 784)\n",
        "X_test = X_test.reshape(-1, 784)\n",
        "\n",
        "# Coverting value to 0 and 1\n",
        "X_train = X_train.astype(np.float)\n",
        "X_test = X_test.astype(np.float)\n",
        "X_train /= 255\n",
        "X_test /= 255"
      ],
      "execution_count": 19,
      "outputs": [
        {
          "output_type": "stream",
          "name": "stdout",
          "text": [
            "Downloading data from https://storage.googleapis.com/tensorflow/tf-keras-datasets/mnist.npz\n",
            "11493376/11490434 [==============================] - 0s 0us/step\n",
            "11501568/11490434 [==============================] - 0s 0us/step\n"
          ]
        }
      ]
    },
    {
      "cell_type": "code",
      "metadata": {
        "colab": {
          "base_uri": "https://localhost:8080/"
        },
        "id": "dISABM4SpAL_",
        "outputId": "53dabbf1-8802-41ee-ea15-251539fe5d2a"
      },
      "source": [
        "from sklearn.preprocessing import OneHotEncoder\n",
        "enc = OneHotEncoder(handle_unknown='ignore', sparse=False)\n",
        "y_train_one_hot = enc.fit_transform(y_train[:, np.newaxis])\n",
        "y_test_one_hot = enc.transform(y_test[:, np.newaxis])\n",
        "print(y_train.shape) # (60000,)\n",
        "print(y_train_one_hot.shape) # (60000, 10)\n",
        "print(y_train_one_hot.dtype) # float64"
      ],
      "execution_count": 20,
      "outputs": [
        {
          "output_type": "stream",
          "name": "stdout",
          "text": [
            "(60000,)\n",
            "(60000, 10)\n",
            "float64\n"
          ]
        }
      ]
    },
    {
      "cell_type": "code",
      "metadata": {
        "colab": {
          "base_uri": "https://localhost:8080/"
        },
        "id": "jwVFYKZhpYP3",
        "outputId": "338d9352-fe77-44c4-d450-64a6037bb077"
      },
      "source": [
        "# Splitting data for training and validation\n",
        "from sklearn.model_selection import train_test_split\n",
        "X_training, X_val, y_training, y_val = train_test_split(X_train, y_train_one_hot, test_size=0.2)\n",
        "print(X_training.shape) # (48000, 784)\n",
        "print(X_val.shape) # (12000, 784)\n",
        "print(y_training.shape)"
      ],
      "execution_count": 21,
      "outputs": [
        {
          "output_type": "stream",
          "name": "stdout",
          "text": [
            "(48000, 784)\n",
            "(12000, 784)\n",
            "(48000, 10)\n"
          ]
        }
      ]
    },
    {
      "cell_type": "markdown",
      "metadata": {
        "id": "N_MfIelTpiWw"
      },
      "source": [
        "Estimation using default settings"
      ]
    },
    {
      "cell_type": "code",
      "metadata": {
        "colab": {
          "base_uri": "https://localhost:8080/"
        },
        "id": "PPLQ0BcspboF",
        "outputId": "d072f0e8-4489-446e-f1f7-ce9ff91f6b7b"
      },
      "source": [
        "model = ScratchSimpleDeepNeuralNetrowkClassifier(verbose=True)\n",
        "model.fit(X_training,y_training, X_val, y_val)"
      ],
      "execution_count": 42,
      "outputs": [
        {
          "output_type": "stream",
          "name": "stdout",
          "text": [
            "Epoch 0:\n",
            "Training_loss: 0.4337398038529202\n",
            "Validation loss: 0.46044062707925254\n",
            "Epoch 1:\n",
            "Training_loss: 0.3290776257150046\n",
            "Validation loss: 0.36067001367684626\n",
            "Epoch 2:\n",
            "Training_loss: 0.2898075310193911\n",
            "Validation loss: 0.32495545415956867\n",
            "Epoch 3:\n",
            "Training_loss: 0.26520804395411496\n",
            "Validation loss: 0.3030450411149202\n",
            "Epoch 4:\n",
            "Training_loss: 0.24612022559809577\n",
            "Validation loss: 0.28601522906648397\n",
            "Epoch 5:\n",
            "Training_loss: 0.2291567092482859\n",
            "Validation loss: 0.2705681249306762\n",
            "Epoch 6:\n",
            "Training_loss: 0.2132866807369547\n",
            "Validation loss: 0.2558326657325981\n",
            "Epoch 7:\n",
            "Training_loss: 0.1984141286714283\n",
            "Validation loss: 0.24184375357288848\n",
            "Epoch 8:\n",
            "Training_loss: 0.18470287712340117\n",
            "Validation loss: 0.22885199814811355\n",
            "Epoch 9:\n",
            "Training_loss: 0.17224536478072938\n",
            "Validation loss: 0.21701813848362944\n"
          ]
        }
      ]
    },
    {
      "cell_type": "markdown",
      "metadata": {
        "id": "7vryWigvrcOt"
      },
      "source": [
        "Estimation using ReLU as activation function, He as initilizer and AdaGrad as optimizer"
      ]
    },
    {
      "cell_type": "code",
      "metadata": {
        "colab": {
          "base_uri": "https://localhost:8080/"
        },
        "id": "nXDrVhaWp2aT",
        "outputId": "52fded2c-7a1f-462c-ec11-63c6dc1ff8e1"
      },
      "source": [
        "enhanced_model = ScratchSimpleDeepNeuralNetrowkClassifier(verbose=True, initializer=HeInitializer, optimizer=AdaGrad, activate_func=ReLU)\n",
        "enhanced_model.fit(X_training,y_training, X_val, y_val)"
      ],
      "execution_count": 43,
      "outputs": [
        {
          "output_type": "stream",
          "name": "stdout",
          "text": [
            "Epoch 0:\n",
            "Training_loss: 0.3014363629438963\n",
            "Validation loss: 0.35545949877867256\n",
            "Epoch 1:\n",
            "Training_loss: 0.2221079638560025\n",
            "Validation loss: 0.27695787526008925\n",
            "Epoch 2:\n",
            "Training_loss: 0.1904650315910542\n",
            "Validation loss: 0.24552657826035662\n",
            "Epoch 3:\n",
            "Training_loss: 0.1702010339717706\n",
            "Validation loss: 0.2258927062493823\n",
            "Epoch 4:\n",
            "Training_loss: 0.1529140018190254\n",
            "Validation loss: 0.20937004079293597\n",
            "Epoch 5:\n",
            "Training_loss: 0.14034033873887594\n",
            "Validation loss: 0.1976637767686007\n",
            "Epoch 6:\n",
            "Training_loss: 0.13079187910112341\n",
            "Validation loss: 0.18906975065385886\n",
            "Epoch 7:\n",
            "Training_loss: 0.12271081679189194\n",
            "Validation loss: 0.18168929332358139\n",
            "Epoch 8:\n",
            "Training_loss: 0.11628844275409395\n",
            "Validation loss: 0.1760809704967104\n",
            "Epoch 9:\n",
            "Training_loss: 0.11029481519497504\n",
            "Validation loss: 0.17089411259315504\n"
          ]
        }
      ]
    },
    {
      "cell_type": "markdown",
      "metadata": {
        "id": "88xD1lQvvRQd"
      },
      "source": [
        "Accuracy score and learning curve for both models"
      ]
    },
    {
      "cell_type": "code",
      "metadata": {
        "colab": {
          "base_uri": "https://localhost:8080/"
        },
        "id": "ITf12qMJr_x9",
        "outputId": "4de348a6-bc27-4819-92f9-75118bb562e6"
      },
      "source": [
        "from sklearn.metrics import accuracy_score\n",
        "\n",
        "training_pred_default = model.predict(X=X_train)\n",
        "test_pred_default = model.predict(X=X_test)\n",
        "training_pred_enhanced = enhanced_model.predict(X=X_train)\n",
        "test_pred_enhanced = enhanced_model.predict(X=X_test)\n",
        "\n",
        "print(\"Accuracy score for training set with default model: {}\".format(accuracy_score(y_true=y_train, y_pred=training_pred_default)))\n",
        "print(\"Accuracy score for testing set with default model: {}\".format(accuracy_score(y_true=y_test,y_pred=test_pred_default)))\n",
        "print(\"Accuracy score for training set with enhanced model: {}\".format(accuracy_score(y_true=y_train, y_pred=training_pred_enhanced)))\n",
        "print(\"Accuracy score for testing set with enhanced model: {}\".format(accuracy_score(y_true=y_test,y_pred=test_pred_enhanced)))"
      ],
      "execution_count": 44,
      "outputs": [
        {
          "output_type": "stream",
          "name": "stdout",
          "text": [
            "Accuracy score for training set with default model: 0.94755\n",
            "Accuracy score for testing set with default model: 0.9441\n",
            "Accuracy score for training set with enhanced model: 0.9641\n",
            "Accuracy score for testing set with enhanced model: 0.9578\n"
          ]
        }
      ]
    },
    {
      "cell_type": "code",
      "metadata": {
        "colab": {
          "base_uri": "https://localhost:8080/",
          "height": 295
        },
        "id": "19lZWtYNup2F",
        "outputId": "e568a6ad-707e-4a49-b19c-70375e04fa63"
      },
      "source": [
        "# Plotting learning curve\n",
        "import matplotlib.pyplot as plt\n",
        "  \n",
        "plt.plot(range(1,model.epoch+1),model.training_loss, label=\"training_default\")\n",
        "plt.plot(range(1,model.epoch+1),model.testing_loss, label=\"validation_default\")\n",
        "plt.plot(range(1,enhanced_model.epoch+1),enhanced_model.training_loss, label=\"training_enhanced\")\n",
        "plt.plot(range(1,enhanced_model.epoch+1),enhanced_model.testing_loss, label=\"validation_enhanced\")\n",
        "\n",
        "plt.xlabel('Epoch')\n",
        "\n",
        "plt.ylabel('Cross Entropy Loss')\n",
        "  \n",
        "plt.legend()\n",
        "plt.title('Learning curve')\n",
        "  \n",
        "plt.show()"
      ],
      "execution_count": 46,
      "outputs": [
        {
          "output_type": "display_data",
          "data": {
            "image/png": "[encoded data removed]",
            "text/plain": [
              "<Figure size 432x288 with 1 Axes>"
            ]
          },
          "metadata": {
            "needs_background": "light"
          }
        }
      ]
    },
    {
      "cell_type": "code",
      "metadata": {
        "id": "PpqKXE8XvB39"
      },
      "source": [
        ""
      ],
      "execution_count": null,
      "outputs": []
    }
  ]
}